{
 "cells": [
  {
   "cell_type": "code",
   "execution_count": 1,
   "id": "f1c95c1e",
   "metadata": {},
   "outputs": [
    {
     "name": "stderr",
     "output_type": "stream",
     "text": [
      "d:\\HK2_2025\\04_Statistic_learning\\NLP_Transformer_QA-Model\\nlp_env\\Lib\\site-packages\\tqdm\\auto.py:21: TqdmWarning: IProgress not found. Please update jupyter and ipywidgets. See https://ipywidgets.readthedocs.io/en/stable/user_install.html\n",
      "  from .autonotebook import tqdm as notebook_tqdm\n"
     ]
    }
   ],
   "source": [
    "from datasets import load_dataset\n",
    "from datasets import Dataset\n",
    "ds = load_dataset(\"Eladio/emrqa-msquad\")"
   ]
  },
  {
   "cell_type": "code",
   "execution_count": 2,
   "id": "2dbd7006",
   "metadata": {},
   "outputs": [
    {
     "name": "stderr",
     "output_type": "stream",
     "text": [
      "Saving the dataset (0/1 shards):   0%|          | 0/130956 [00:00<?, ? examples/s]"
     ]
    },
    {
     "name": "stderr",
     "output_type": "stream",
     "text": [
      "Saving the dataset (1/1 shards): 100%|██████████| 130956/130956 [00:00<00:00, 156358.46 examples/s]\n",
      "Saving the dataset (1/1 shards): 100%|██████████| 32739/32739 [00:00<00:00, 193587.08 examples/s]\n"
     ]
    }
   ],
   "source": [
    "ds.save_to_disk(\"emrqa-msquad\")"
   ]
  },
  {
   "cell_type": "code",
   "execution_count": null,
   "id": "dcd32798",
   "metadata": {},
   "outputs": [
    {
     "name": "stderr",
     "output_type": "stream",
     "text": [
      "Creating CSV from Arrow format: 100%|██████████| 131/131 [00:19<00:00,  6.60ba/s]\n"
     ]
    },
    {
     "data": {
      "text/plain": [
       "318327467"
      ]
     },
     "execution_count": 8,
     "metadata": {},
     "output_type": "execute_result"
    }
   ],
   "source": [
    "dataset = Dataset.from_file(\"emrqa-msquad/train/data-00000-of-00001.arrow\")\n",
    "dataset.to_csv(\"dataset/trained_data.csv\")"
   ]
  },
  {
   "cell_type": "code",
   "execution_count": 4,
   "id": "25560a19",
   "metadata": {},
   "outputs": [
    {
     "name": "stderr",
     "output_type": "stream",
     "text": [
      "Creating CSV from Arrow format:   0%|          | 0/33 [00:00<?, ?ba/s]"
     ]
    },
    {
     "name": "stderr",
     "output_type": "stream",
     "text": [
      "Creating CSV from Arrow format: 100%|██████████| 33/33 [00:09<00:00,  3.31ba/s]\n"
     ]
    },
    {
     "data": {
      "text/plain": [
       "79915686"
      ]
     },
     "execution_count": 4,
     "metadata": {},
     "output_type": "execute_result"
    }
   ],
   "source": [
    "valid_data= Dataset.from_file(\"emrqa-msquad/validation/data-00000-of-00001.arrow\")\n",
    "valid_data.to_csv(\"dataset/valid_data.csv\")"
   ]
  },
  {
   "cell_type": "markdown",
   "id": "61926b3c",
   "metadata": {},
   "source": [
    "## Transfer to Json file with better format"
   ]
  },
  {
   "cell_type": "code",
   "execution_count": 7,
   "id": "ad675cd1",
   "metadata": {},
   "outputs": [],
   "source": [
    "import pandas as pd\n",
    "import json\n",
    "import re\n",
    "\n",
    "def clean_answer_string(answers_str):\n",
    "    # Bỏ dtype=object\n",
    "    answers_str = re.sub(r\",\\s*dtype=object\", \"\", answers_str)\n",
    "\n",
    "    # Thay array([...]) -> [...]\n",
    "    answers_str = re.sub(r\"array\\((\\[.*?\\])\\)\", r\"\\1\", answers_str)\n",
    "\n",
    "    # Bỏ nháy đơn ở giữa từ (dc'ing -> dcing, Ringer's -> Ringers)\n",
    "    answers_str = re.sub(r\"(\\w)'(\\w)\", r\"\\1\\2\", answers_str)\n",
    "\n",
    "    # Bỏ nháy đơn ở cuối từ (Graves' -> Graves)\n",
    "    answers_str = re.sub(r\"(\\w)'(\\s|\\\"|$)\", r\"\\1\\2\", answers_str)\n",
    "\n",
    "    # Cuối cùng thay nháy đơn -> nháy kép\n",
    "    answers_str = answers_str.replace(\"'\", '\"')\n",
    "\n",
    "    return json.loads(answers_str)\n",
    "\n",
    "\n",
    "def convert_csv_to_squad_json_with_error_log(csv_path, output_json_path):\n",
    "    df = pd.read_csv(csv_path)\n",
    "\n",
    "    # Chỉ lấy 15 dòng đầu\n",
    "    \n",
    "\n",
    "    data = []\n",
    "    error_rows = []\n",
    "\n",
    "    for idx, row in df.iterrows():\n",
    "        try:\n",
    "            context = row[\"context\"]\n",
    "            question = row[\"question\"]\n",
    "            answers = clean_answer_string(row[\"answers\"])\n",
    "\n",
    "            # Kiểm tra định dạng\n",
    "            if not all(k in answers for k in [\"text\", \"answer_start\"]):\n",
    "                raise ValueError(\"Thiếu key trong answers\")\n",
    "\n",
    "            # Tạo sample\n",
    "            sample = {\n",
    "                \"context\": context,\n",
    "                \"question\": question,\n",
    "                \"answers\": {\n",
    "                    \"text\": answers[\"text\"],\n",
    "                    \"answer_start\": answers[\"answer_start\"]\n",
    "                },\n",
    "                \"id\": str(idx)\n",
    "            }\n",
    "            data.append(sample)\n",
    "        except Exception as e:\n",
    "            error_rows.append({\"index\": idx, \"error\": str(e), \"raw\": row[\"answers\"]})\n",
    "            print(f\"❌ Lỗi ở dòng {idx}: {e}\")\n",
    "            print(f\"   Nội dung answers: {row['answers']}\\n\")\n",
    "\n",
    "    # Ghi JSON hợp lệ\n",
    "    with open(output_json_path, \"w\", encoding=\"utf-8\") as f:\n",
    "        json.dump(data, f, ensure_ascii=False, indent=2)\n",
    "\n",
    "    # Báo lỗi nếu có\n",
    "    if error_rows:\n",
    "        print(f\"\\n⚠️ Tổng cộng {len(error_rows)} dòng bị lỗi:\")\n",
    "        for e in error_rows:\n",
    "            print(f\"- Dòng {e['index']}: {e['error']}\")\n",
    "            print(f\"  Nội dung: {e['raw']}\\n\")\n",
    "    else:\n",
    "        print(\"✅ Không có lỗi nào.\")\n",
    "\n",
    "    print(f\"\\n✅ JSON hợp lệ đã được lưu vào: {output_json_path}\")\n",
    "\n",
    "\n"
   ]
  },
  {
   "cell_type": "code",
   "execution_count": null,
   "id": "1727f20d",
   "metadata": {},
   "outputs": [],
   "source": [
    "# Chạy thử\n",
    "convert_csv_to_squad_json_with_error_log(\"dataset/raw_data.csv\", \"dataset/trained_dataset.json\")"
   ]
  },
  {
   "cell_type": "code",
   "execution_count": 8,
   "id": "3041a64e",
   "metadata": {},
   "outputs": [
    {
     "name": "stdout",
     "output_type": "stream",
     "text": [
      "✅ Không có lỗi nào.\n",
      "\n",
      "✅ JSON hợp lệ đã được lưu vào: dataset/valid_dataset.json\n"
     ]
    }
   ],
   "source": [
    "convert_csv_to_squad_json_with_error_log(\"dataset/valid_data.csv\", \"dataset/valid_dataset.json\")"
   ]
  }
 ],
 "metadata": {
  "kernelspec": {
   "display_name": "nlp_env",
   "language": "python",
   "name": "python3"
  },
  "language_info": {
   "codemirror_mode": {
    "name": "ipython",
    "version": 3
   },
   "file_extension": ".py",
   "mimetype": "text/x-python",
   "name": "python",
   "nbconvert_exporter": "python",
   "pygments_lexer": "ipython3",
   "version": "3.12.6"
  }
 },
 "nbformat": 4,
 "nbformat_minor": 5
}
